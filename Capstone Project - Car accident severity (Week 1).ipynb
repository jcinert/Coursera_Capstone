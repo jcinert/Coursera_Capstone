{
    "cells": [
        {
            "cell_type": "markdown",
            "metadata": {
                "collapsed": true
            },
            "source": "# Capstone Project - Car accident severity (Week 1)"
        },
        {
            "cell_type": "markdown",
            "metadata": {},
            "source": "## Introduction / Business Problem"
        },
        {
            "cell_type": "markdown",
            "metadata": {},
            "source": "Every opportunity to reduce trafic accidents is a good opportunity. Accident prediction can be leveraged for optimizing infrastructure, providing police support in critical areas and/during high accident frequency times. This project is focusing on predicting the accident severity based on different attributes like locations, time, visibility, rough driving by influence of drugs or alcohol and more."
        },
        {
            "cell_type": "markdown",
            "metadata": {},
            "source": "## Data"
        },
        {
            "cell_type": "markdown",
            "metadata": {},
            "source": "There are 35 variables in our Collisions - All year data set. Data set contains accidents in city of Seattle. in Addition to 35 varables there is our dependnt variable SEVERITYCODE (with SEVERITYDESC short tect desctiption). We would like to identify the most in fluencing variables that cause the accident and the level of severity. We will use X as a set of inependent variables and Y as our dependent variable. Following standard data science steps we will:\n* Review data further look for correlations, trends, ...\n* Prepare data - transformation, filling missing data, cleaning the dataset and remove not relevant columns\n* Model the prediction using different algorithms and compare results.\n* Evaluate and conclude which factors may have more impact on the accidents"
        },
        {
            "cell_type": "code",
            "execution_count": null,
            "metadata": {},
            "outputs": [],
            "source": ""
        }
    ],
    "metadata": {
        "kernelspec": {
            "display_name": "Python 3.6",
            "language": "python",
            "name": "python3"
        },
        "language_info": {
            "codemirror_mode": {
                "name": "ipython",
                "version": 3
            },
            "file_extension": ".py",
            "mimetype": "text/x-python",
            "name": "python",
            "nbconvert_exporter": "python",
            "pygments_lexer": "ipython3",
            "version": "3.6.9"
        }
    },
    "nbformat": 4,
    "nbformat_minor": 1
}